{
  "nbformat": 4,
  "nbformat_minor": 0,
  "metadata": {
    "colab": {
      "provenance": [],
      "authorship_tag": "ABX9TyMpswwLgHJ24wjNW96/19V+",
      "include_colab_link": true
    },
    "kernelspec": {
      "name": "python3",
      "display_name": "Python 3"
    },
    "language_info": {
      "name": "python"
    }
  },
  "cells": [
    {
      "cell_type": "markdown",
      "metadata": {
        "id": "view-in-github",
        "colab_type": "text"
      },
      "source": [
        "<a href=\"https://colab.research.google.com/github/Niveditha-hd/ERA_V2/blob/main/README_md.ipynb\" target=\"_parent\"><img src=\"https://colab.research.google.com/assets/colab-badge.svg\" alt=\"Open In Colab\"/></a>"
      ]
    },
    {
      "cell_type": "code",
      "execution_count": null,
      "metadata": {
        "id": "1HOluDMUJdip"
      },
      "outputs": [],
      "source": []
    },
    {
      "cell_type": "markdown",
      "source": [
        "**# Session 5 - Assignment**\n",
        "\n",
        "As part of this assignment a simple four layer neural network model for image classification is implemented using PyTorch.\n",
        "\n",
        "## Table of Contents\n",
        "- [Overview](#overview)\n",
        "- [Files](#files)\n",
        "-[Installation](#installation)\n",
        "-[Usage](#usage)\n",
        "\n",
        "## Overview\n",
        "\n",
        "As part of this assignment, we learn how to train a simple neural network for image classification using MNIST dataset. The focus is also given to  restructure and modularize the code into manageable and readable format. The key fuctionalities are identified, segregated and grouped meaningfully.\n",
        "\n",
        "## Files\n",
        "\n",
        "*   model.py - Defines the neural network model\n",
        "    * Net(nn.module) - Implements 4 layers of convolution with size 3*3 kernel followed by 2 layers of Fully Connected layer\n",
        "    * forward() - Defines the forward pass of the network. Each convolution  layer is treated with Relu function(to introduce non-linearity) and maxpool function is used after 2 convolution layers to drastically reduce the size of the image, acheiving higher RF and reducing the computation.\n",
        "*   util.py - Contains the utility functions for data preprocessing, splitting the data - loading data, training models and evaluating\n",
        "    * get_mnist_data(batch_size) - This function returns the test_loader and train_loader\n",
        "      * train_transforms - What are the series of transform steps for the train dataset - prep MNIST dataset to tensor format and with proper dimensions using various available transforms. Eg: Randomly crop center, Resize, Rotate and normalise\n",
        "      * test_transforms - no major prep must be performed on test dataset. The format is maintained as tensor and normalized.\n",
        "\n",
        "\n",
        "*   S5.ipynb - import the model, train and evaluate the model\n",
        "    * Import data sets - use get_mnist_data from util\n",
        "    * Train the model - Feed the train data set and train the model\n",
        "    * Evaluate the model - GetCorrectPredCount\n",
        "\n",
        "\n",
        "\n",
        "\n"
      ],
      "metadata": {
        "id": "sC0Bfr-CJiME"
      }
    },
    {
      "cell_type": "markdown",
      "source": [],
      "metadata": {
        "id": "17kPgmGsMv2a"
      }
    }
  ]
}